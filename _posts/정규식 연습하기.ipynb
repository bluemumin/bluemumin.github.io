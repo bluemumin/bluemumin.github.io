{
 "cells": [
  {
   "cell_type": "markdown",
   "metadata": {},
   "source": [
    "[0-9] 또는 [a-zA-Z] 등은 무척 자주 사용하는 정규 표현식이다. 이렇게 자주 사용하는 정규식은 별도의 표기법으로 표현할 수 있다.\n",
    "\n",
    "다음을 기억해 두자.\n",
    "\n",
    "\\d - 숫자와 매치, [0-9]와 동일한 표현식이다. (digit로 기억하자)\n",
    "\n",
    "\\s - whitespace 문자와 매치, [ \\t\\n\\r\\f\\v]와 동일한 표현식이다. 맨 앞의 빈 칸은 공백문자(space)를 의미한다. (space로 기억)\n",
    "\n",
    "\\w - 문자+숫자(alphanumeric)와 매치, [a-zA-Z0-9_]와 동일한 표현식이다.\n",
    "\n",
    "\\D - 숫자가 아닌 것과 매치, [^0-9]와 동일한 표현식이다.\n",
    "\n",
    "\\S - whitespace 문자가 아닌 것과 매치, [^ \\t\\n\\r\\f\\v]와 동일한 표현식이다.\n",
    "\n",
    "\\W - 문자+숫자(alphanumeric)가 아닌 문자와 매치, [^a-zA-Z0-9_]와 동일한 표현식이다.\n",
    "\n",
    "\\\\ : 역슬래시 문자자체를 의미\n",
    "\n",
    "대문자로 사용된 것은 소문자의 반대임을 추측할 수 있다."
   ]
  },
  {
   "cell_type": "markdown",
   "metadata": {},
   "source": [
    ". - 개행문자(\\n)를 제외한 (모든 문자)1자를 의미\n",
    "\n",
    "^ - 문자열의 시작\n",
    "\n",
    "$ - 문자열의 종료\n",
    "\n",
    "[ ] - 가능한 문자열들 집합 정리 (ex [Ppt]ython = Python or python or tython\n",
    "\n",
    "[ - ] - 글자들 사이에 범위 지정 가능\n",
    "\n",
    "[^ ] - 여집합으로 사용 (ex [^aeiou]ython = 소문자 모음 제외 문자들 들어오기 가능 \n",
    "\n",
    "| - OR\n",
    "\n",
    "() - 괄호안의 ‘정규식’을 그룹으로 만듦"
   ]
  },
  {
   "cell_type": "markdown",
   "metadata": {},
   "source": [
    "*-문자가 0회이상 반복할시\n",
    "\n",
    "+ - 문자가 1회이상 바복\n",
    "\n",
    "? 문자가 0 혹은 1회 반복\n",
    "\n",
    "{m} 문자가 m회 반복\n",
    "\n",
    "{m, n} 문자가 m회이상 n회이하까지 반복되는 경우\n",
    "\n",
    "{m, } 문자가 m회이상부터 무한 반복되는 경우\n",
    "\n",
    "ple$ : ple로 끝나는 걸 찾고 치환(매치)하기\n",
    "\n",
    "‘appl[a-z]’ : 소문자 a이상 z이하까지 올 수 있다.\n",
    "\n",
    "‘appl[a-z]’에 여집합을 표현할때 역전시킬때 ^기호를 쓴다\n",
    "\n",
    "‘app^[a-z]’이렇게"
   ]
  },
  {
   "cell_type": "markdown",
   "metadata": {},
   "source": [
    "search \n",
    "\n",
    "match 패턴 존재 검사\n",
    "\n",
    "split 무슨 기준으로 쪼갤 것인지\n",
    "\n",
    "findall 모든 경우의 수\n",
    "\n",
    "sub subtract + replace\n",
    "\n"
   ]
  },
  {
   "cell_type": "code",
   "execution_count": 1,
   "metadata": {
    "ExecuteTime": {
     "end_time": "2022-02-16T17:04:53.792455Z",
     "start_time": "2022-02-16T17:04:53.788457Z"
    }
   },
   "outputs": [],
   "source": [
    "import re\n",
    "\n",
    "p = re.compile('[a-z]+') #문자 1회 이상 반복"
   ]
  },
  {
   "cell_type": "code",
   "execution_count": 3,
   "metadata": {
    "ExecuteTime": {
     "end_time": "2022-02-17T02:46:24.471764Z",
     "start_time": "2022-02-17T02:46:24.453856Z"
    }
   },
   "outputs": [
    {
     "name": "stdout",
     "output_type": "stream",
     "text": [
      "<re.Match object; span=(10, 22), match='032-232-3245'>\n",
      "032-232-3245\n"
     ]
    }
   ],
   "source": [
    "import re\n",
    " \n",
    "text = \"문의사항이 있으면 032-232-3245 으로 연락주시기 바랍니다.\"\n",
    " \n",
    "regex = re.compile(r'[0-9]{3}-[0-9]{3,4}-[0-9]{3,4}')\n",
    "\n",
    "matchobj = regex.search(text)\n",
    "phonenumber = matchobj.group()\n",
    "\n",
    "print(matchobj) \n",
    "print(phonenumber) "
   ]
  },
  {
   "cell_type": "code",
   "execution_count": 6,
   "metadata": {
    "ExecuteTime": {
     "end_time": "2022-02-17T02:52:01.994008Z",
     "start_time": "2022-02-17T02:52:01.977009Z"
    }
   },
   "outputs": [
    {
     "name": "stdout",
     "output_type": "stream",
     "text": [
      "032 232-3245\n",
      "032-232-3245\n"
     ]
    }
   ],
   "source": [
    "import re\n",
    " \n",
    "text = \"문의사항이 있으면 032-232-3245 으로 연락주시기 바랍니다.\"\n",
    " \n",
    "regex = re.compile(r'(\\d{3})-(\\d{3,4}-\\d{3,4})')\n",
    "\n",
    "matchobj = regex.search(text)\n",
    "\n",
    "areaCode = matchobj.group(1)\n",
    "num = matchobj.group(2)\n",
    "\n",
    "fullNum = matchobj.group()\n",
    "\n",
    "print(areaCode, num) # 032 232-3245\n",
    "print(fullNum)"
   ]
  },
  {
   "cell_type": "code",
   "execution_count": null,
   "metadata": {},
   "outputs": [],
   "source": []
  },
  {
   "cell_type": "code",
   "execution_count": 2,
   "metadata": {
    "ExecuteTime": {
     "end_time": "2022-02-16T17:05:03.927933Z",
     "start_time": "2022-02-16T17:05:03.916933Z"
    }
   },
   "outputs": [
    {
     "name": "stdout",
     "output_type": "stream",
     "text": [
      "<re.Match object; span=(0, 6), match='python'>\n"
     ]
    }
   ],
   "source": [
    "m = p.match(\"python\")\n",
    "print(m)"
   ]
  },
  {
   "cell_type": "code",
   "execution_count": 3,
   "metadata": {
    "ExecuteTime": {
     "end_time": "2022-02-16T17:05:14.584752Z",
     "start_time": "2022-02-16T17:05:14.568753Z"
    }
   },
   "outputs": [
    {
     "name": "stdout",
     "output_type": "stream",
     "text": [
      "None\n"
     ]
    }
   ],
   "source": [
    "m = p.match(\"3 python\")\n",
    "print(m)"
   ]
  },
  {
   "cell_type": "code",
   "execution_count": 4,
   "metadata": {
    "ExecuteTime": {
     "end_time": "2022-02-16T17:05:26.959885Z",
     "start_time": "2022-02-16T17:05:26.942887Z"
    }
   },
   "outputs": [
    {
     "name": "stdout",
     "output_type": "stream",
     "text": [
      "<re.Match object; span=(2, 8), match='python'>\n"
     ]
    }
   ],
   "source": [
    "m = p.search(\"3 python\")\n",
    "print(m)"
   ]
  },
  {
   "cell_type": "code",
   "execution_count": 11,
   "metadata": {
    "ExecuteTime": {
     "end_time": "2022-02-17T04:54:46.499184Z",
     "start_time": "2022-02-17T04:54:46.495183Z"
    }
   },
   "outputs": [],
   "source": [
    "first = re.compile('\\d{1,}')\n",
    "second = re.compile('[^\\d]{1,}')\n",
    "\n",
    "lan = '1S2D#10T'"
   ]
  },
  {
   "cell_type": "code",
   "execution_count": 12,
   "metadata": {
    "ExecuteTime": {
     "end_time": "2022-02-17T04:54:46.831280Z",
     "start_time": "2022-02-17T04:54:46.816364Z"
    }
   },
   "outputs": [
    {
     "data": {
      "text/plain": [
       "['1', '2', '10']"
      ]
     },
     "execution_count": 12,
     "metadata": {},
     "output_type": "execute_result"
    }
   ],
   "source": [
    "first.findall(lan)"
   ]
  },
  {
   "cell_type": "code",
   "execution_count": 13,
   "metadata": {
    "ExecuteTime": {
     "end_time": "2022-02-17T04:54:47.127339Z",
     "start_time": "2022-02-17T04:54:47.120339Z"
    }
   },
   "outputs": [
    {
     "data": {
      "text/plain": [
       "['S', 'D#', 'T']"
      ]
     },
     "execution_count": 13,
     "metadata": {},
     "output_type": "execute_result"
    }
   ],
   "source": [
    "second.findall(lan)"
   ]
  },
  {
   "cell_type": "code",
   "execution_count": null,
   "metadata": {},
   "outputs": [],
   "source": []
  },
  {
   "cell_type": "code",
   "execution_count": null,
   "metadata": {},
   "outputs": [],
   "source": []
  },
  {
   "cell_type": "code",
   "execution_count": 5,
   "metadata": {
    "ExecuteTime": {
     "end_time": "2022-02-16T17:05:47.833043Z",
     "start_time": "2022-02-16T17:05:47.822043Z"
    }
   },
   "outputs": [
    {
     "name": "stdout",
     "output_type": "stream",
     "text": [
      "['life', 'is', 'too', 'short']\n"
     ]
    }
   ],
   "source": [
    "result = p.findall(\"life is too short\")\n",
    "print(result)"
   ]
  },
  {
   "cell_type": "code",
   "execution_count": 8,
   "metadata": {
    "ExecuteTime": {
     "end_time": "2022-02-16T17:06:37.980217Z",
     "start_time": "2022-02-16T17:06:37.971215Z"
    }
   },
   "outputs": [
    {
     "name": "stdout",
     "output_type": "stream",
     "text": [
      "<callable_iterator object at 0x000001E87C8DB5E0>\n",
      "<re.Match object; span=(0, 4), match='life'>\n",
      "<re.Match object; span=(5, 7), match='is'>\n",
      "<re.Match object; span=(8, 11), match='too'>\n",
      "<re.Match object; span=(12, 17), match='short'>\n"
     ]
    }
   ],
   "source": [
    "result = p.finditer(\"life is too short\")\n",
    "print(result)\n",
    "\n",
    "for r in result: print(r)"
   ]
  },
  {
   "cell_type": "code",
   "execution_count": null,
   "metadata": {},
   "outputs": [],
   "source": []
  }
 ],
 "metadata": {
  "hide_input": false,
  "kernelspec": {
   "display_name": "Python 3",
   "language": "python",
   "name": "python3"
  },
  "language_info": {
   "codemirror_mode": {
    "name": "ipython",
    "version": 3
   },
   "file_extension": ".py",
   "mimetype": "text/x-python",
   "name": "python",
   "nbconvert_exporter": "python",
   "pygments_lexer": "ipython3",
   "version": "3.8.5"
  },
  "toc": {
   "base_numbering": 1,
   "nav_menu": {},
   "number_sections": true,
   "sideBar": true,
   "skip_h1_title": false,
   "title_cell": "Table of Contents",
   "title_sidebar": "Contents",
   "toc_cell": false,
   "toc_position": {},
   "toc_section_display": true,
   "toc_window_display": false
  },
  "varInspector": {
   "cols": {
    "lenName": 16,
    "lenType": 16,
    "lenVar": 40
   },
   "kernels_config": {
    "python": {
     "delete_cmd_postfix": "",
     "delete_cmd_prefix": "del ",
     "library": "var_list.py",
     "varRefreshCmd": "print(var_dic_list())"
    },
    "r": {
     "delete_cmd_postfix": ") ",
     "delete_cmd_prefix": "rm(",
     "library": "var_list.r",
     "varRefreshCmd": "cat(var_dic_list()) "
    }
   },
   "types_to_exclude": [
    "module",
    "function",
    "builtin_function_or_method",
    "instance",
    "_Feature"
   ],
   "window_display": false
  }
 },
 "nbformat": 4,
 "nbformat_minor": 4
}
