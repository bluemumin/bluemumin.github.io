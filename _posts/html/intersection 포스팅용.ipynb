{
 "cells": [
  {
   "cell_type": "markdown",
   "metadata": {},
   "source": [
    "# 숫자버전"
   ]
  },
  {
   "cell_type": "code",
   "execution_count": 1,
   "metadata": {
    "ExecuteTime": {
     "end_time": "2020-07-04T15:12:07.547967Z",
     "start_time": "2020-07-04T15:12:07.538001Z"
    }
   },
   "outputs": [
    {
     "data": {
      "text/plain": [
       "[4, 5]"
      ]
     },
     "execution_count": 1,
     "metadata": {},
     "output_type": "execute_result"
    }
   ],
   "source": [
    "b1 = [1, 2, 3, 4, 5, 9, 11, 15]\n",
    "b2 = [5, 4, 6 ,7, 8, 8]\n",
    "\n",
    "list( set(b1).intersection(b2) ) #교집합"
   ]
  },
  {
   "cell_type": "code",
   "execution_count": 2,
   "metadata": {
    "ExecuteTime": {
     "end_time": "2020-07-04T15:12:07.736719Z",
     "start_time": "2020-07-04T15:12:07.730767Z"
    }
   },
   "outputs": [
    {
     "data": {
      "text/plain": [
       "[1, 2, 3, 4, 5, 6, 7, 8, 9, 11, 15]"
      ]
     },
     "execution_count": 2,
     "metadata": {},
     "output_type": "execute_result"
    }
   ],
   "source": [
    "list( set().union(b1, b2) ) #합집합"
   ]
  },
  {
   "cell_type": "code",
   "execution_count": 3,
   "metadata": {
    "ExecuteTime": {
     "end_time": "2020-07-04T15:12:07.911897Z",
     "start_time": "2020-07-04T15:12:07.905911Z"
    }
   },
   "outputs": [
    {
     "data": {
      "text/plain": [
       "[1, 2, 3, 4, 5, 6, 7, 8, 9, 11, 15]"
      ]
     },
     "execution_count": 3,
     "metadata": {},
     "output_type": "execute_result"
    }
   ],
   "source": [
    "list( set( b1 + b2) ) # 합집합 다른 버전"
   ]
  },
  {
   "cell_type": "code",
   "execution_count": 4,
   "metadata": {
    "ExecuteTime": {
     "end_time": "2020-07-04T15:12:08.075286Z",
     "start_time": "2020-07-04T15:12:08.070263Z"
    }
   },
   "outputs": [
    {
     "data": {
      "text/plain": [
       "[1, 2, 3, 9, 11, 15]"
      ]
     },
     "execution_count": 4,
     "metadata": {},
     "output_type": "execute_result"
    }
   ],
   "source": [
    "list( set(b1).difference(b2) ) #차집합"
   ]
  },
  {
   "cell_type": "code",
   "execution_count": 5,
   "metadata": {
    "ExecuteTime": {
     "end_time": "2020-07-04T15:12:08.264682Z",
     "start_time": "2020-07-04T15:12:08.257706Z"
    }
   },
   "outputs": [
    {
     "data": {
      "text/plain": [
       "[1, 2, 3, 6, 7, 8, 9, 11, 15]"
      ]
     },
     "execution_count": 5,
     "metadata": {},
     "output_type": "execute_result"
    }
   ],
   "source": [
    "list( set(b1).symmetric_difference(b2) ) #대칭 차집합"
   ]
  },
  {
   "cell_type": "markdown",
   "metadata": {},
   "source": [
    "# 함수버전"
   ]
  },
  {
   "cell_type": "code",
   "execution_count": 6,
   "metadata": {
    "ExecuteTime": {
     "end_time": "2020-07-04T15:12:08.622894Z",
     "start_time": "2020-07-04T15:12:08.616910Z"
    }
   },
   "outputs": [
    {
     "data": {
      "text/plain": [
       "[4, 5]"
      ]
     },
     "execution_count": 6,
     "metadata": {},
     "output_type": "execute_result"
    }
   ],
   "source": [
    "# 두 리스트가 주어졌을 때, 해당되는 리스트에서 교집합이 있으면 \n",
    "# 해당되는 것을 리스트 형태로 반환하는 함수\n",
    "\n",
    "def intersection(list1, list2):\n",
    "    list3 = [value for value in list1 if value in list2]\n",
    "    return list3\n",
    "\n",
    "intersection(b1, b2) # 함수버전 교집합"
   ]
  },
  {
   "cell_type": "code",
   "execution_count": 7,
   "metadata": {
    "ExecuteTime": {
     "end_time": "2020-07-04T15:12:08.863978Z",
     "start_time": "2020-07-04T15:12:08.857991Z"
    }
   },
   "outputs": [
    {
     "data": {
      "text/plain": [
       "'4 5'"
      ]
     },
     "execution_count": 7,
     "metadata": {},
     "output_type": "execute_result"
    }
   ],
   "source": [
    "b3 = intersection(b1, b2)\n",
    "' '.join( [str(i) for i in b3]) "
   ]
  },
  {
   "cell_type": "code",
   "execution_count": 8,
   "metadata": {
    "ExecuteTime": {
     "end_time": "2020-07-04T15:12:09.032507Z",
     "start_time": "2020-07-04T15:12:09.024528Z"
    }
   },
   "outputs": [
    {
     "data": {
      "text/plain": [
       "[1, 2, 3, 9, 11, 15]"
      ]
     },
     "execution_count": 8,
     "metadata": {},
     "output_type": "execute_result"
    }
   ],
   "source": [
    "def diff (list1, list2):\n",
    "    list3 = [value for value in list1 if value not in list2]\n",
    "    return list3\n",
    "\n",
    "diff(b1, b2) #함수버전 차집합"
   ]
  },
  {
   "cell_type": "code",
   "execution_count": 9,
   "metadata": {
    "ExecuteTime": {
     "end_time": "2020-07-04T15:12:09.236373Z",
     "start_time": "2020-07-04T15:12:09.230360Z"
    }
   },
   "outputs": [
    {
     "data": {
      "text/plain": [
       "[6, 7, 8, 8]"
      ]
     },
     "execution_count": 9,
     "metadata": {},
     "output_type": "execute_result"
    }
   ],
   "source": [
    "diff(b2, b1) #단 이렇게 하면 중복되는 것이 제거가 되지 않음"
   ]
  },
  {
   "cell_type": "code",
   "execution_count": 10,
   "metadata": {
    "ExecuteTime": {
     "end_time": "2020-07-04T15:12:09.441605Z",
     "start_time": "2020-07-04T15:12:09.435619Z"
    }
   },
   "outputs": [
    {
     "data": {
      "text/plain": [
       "[8, 6, 7]"
      ]
     },
     "execution_count": 10,
     "metadata": {},
     "output_type": "execute_result"
    }
   ],
   "source": [
    "list( set( diff(b2, b1) ) ) # 고유한 것만 남겨주는 set를 이용한 뒤, 리스트를 통해 다시 리스트로 만들면 됨"
   ]
  },
  {
   "cell_type": "code",
   "execution_count": 11,
   "metadata": {
    "ExecuteTime": {
     "end_time": "2020-07-04T15:12:09.711848Z",
     "start_time": "2020-07-04T15:12:09.704896Z"
    }
   },
   "outputs": [
    {
     "data": {
      "text/plain": [
       "[1, 2, 3, 6, 7, 8, 9, 11, 15]"
      ]
     },
     "execution_count": 11,
     "metadata": {},
     "output_type": "execute_result"
    }
   ],
   "source": [
    "list( set( diff(b1, b2) + diff(b2, b1) ) ) #대칭 차집합은 굳이 함수를 만들지 않아도 간단히 가능하다."
   ]
  },
  {
   "cell_type": "markdown",
   "metadata": {},
   "source": [
    "# 문자 버전"
   ]
  },
  {
   "cell_type": "code",
   "execution_count": 12,
   "metadata": {
    "ExecuteTime": {
     "end_time": "2020-07-04T15:12:10.193743Z",
     "start_time": "2020-07-04T15:12:10.187759Z"
    }
   },
   "outputs": [
    {
     "data": {
      "text/plain": [
       "['e', 'abc']"
      ]
     },
     "execution_count": 12,
     "metadata": {},
     "output_type": "execute_result"
    }
   ],
   "source": [
    "c1 = ['abc', 'edb', 'aacc', 'e', 'ed', 'ed']\n",
    "c2 = ['abc', 'etc', 'fdc', 'c', 'e']\n",
    "\n",
    "list( set(c1).intersection(c2) )"
   ]
  },
  {
   "cell_type": "code",
   "execution_count": 13,
   "metadata": {
    "ExecuteTime": {
     "end_time": "2020-07-04T15:12:10.583125Z",
     "start_time": "2020-07-04T15:12:10.577141Z"
    }
   },
   "outputs": [
    {
     "data": {
      "text/plain": [
       "['aacc', 'e', 'fdc', 'etc', 'abc', 'edb', 'ed', 'c']"
      ]
     },
     "execution_count": 13,
     "metadata": {},
     "output_type": "execute_result"
    }
   ],
   "source": [
    "list( set().union(c1, c2) )"
   ]
  },
  {
   "cell_type": "code",
   "execution_count": 14,
   "metadata": {
    "ExecuteTime": {
     "end_time": "2020-07-04T15:12:10.909888Z",
     "start_time": "2020-07-04T15:12:10.903902Z"
    }
   },
   "outputs": [
    {
     "data": {
      "text/plain": [
       "['aacc', 'e', 'fdc', 'etc', 'abc', 'edb', 'ed', 'c']"
      ]
     },
     "execution_count": 14,
     "metadata": {},
     "output_type": "execute_result"
    }
   ],
   "source": [
    "list( set( c1 + c2 ) )"
   ]
  },
  {
   "cell_type": "code",
   "execution_count": 15,
   "metadata": {
    "ExecuteTime": {
     "end_time": "2020-07-04T15:12:11.176997Z",
     "start_time": "2020-07-04T15:12:11.172013Z"
    }
   },
   "outputs": [
    {
     "data": {
      "text/plain": [
       "['abc', 'e']"
      ]
     },
     "execution_count": 15,
     "metadata": {},
     "output_type": "execute_result"
    }
   ],
   "source": [
    "intersection(c1, c2)"
   ]
  },
  {
   "cell_type": "code",
   "execution_count": 16,
   "metadata": {
    "ExecuteTime": {
     "end_time": "2020-07-04T15:12:11.428581Z",
     "start_time": "2020-07-04T15:12:11.423594Z"
    }
   },
   "outputs": [
    {
     "data": {
      "text/plain": [
       "'e abc'"
      ]
     },
     "execution_count": 16,
     "metadata": {},
     "output_type": "execute_result"
    }
   ],
   "source": [
    "c3 = list( set(c1).intersection(c2) )\n",
    "' '.join(c3)"
   ]
  },
  {
   "cell_type": "code",
   "execution_count": 17,
   "metadata": {
    "ExecuteTime": {
     "end_time": "2020-07-04T15:12:11.784483Z",
     "start_time": "2020-07-04T15:12:11.780493Z"
    }
   },
   "outputs": [
    {
     "data": {
      "text/plain": [
       "['edb', 'aacc', 'ed', 'ed']"
      ]
     },
     "execution_count": 17,
     "metadata": {},
     "output_type": "execute_result"
    }
   ],
   "source": [
    "diff(c1, c2)"
   ]
  }
 ],
 "metadata": {
  "hide_input": false,
  "kernelspec": {
   "display_name": "Python 3",
   "language": "python",
   "name": "python3"
  },
  "language_info": {
   "codemirror_mode": {
    "name": "ipython",
    "version": 3
   },
   "file_extension": ".py",
   "mimetype": "text/x-python",
   "name": "python",
   "nbconvert_exporter": "python",
   "pygments_lexer": "ipython3",
   "version": "3.7.6"
  },
  "toc": {
   "base_numbering": 1,
   "nav_menu": {},
   "number_sections": true,
   "sideBar": true,
   "skip_h1_title": false,
   "title_cell": "Table of Contents",
   "title_sidebar": "Contents",
   "toc_cell": false,
   "toc_position": {},
   "toc_section_display": true,
   "toc_window_display": false
  }
 },
 "nbformat": 4,
 "nbformat_minor": 4
}
