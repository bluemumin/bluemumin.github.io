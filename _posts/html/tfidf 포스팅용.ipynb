{
 "cells": [
  {
   "cell_type": "code",
   "execution_count": 1,
   "metadata": {
    "ExecuteTime": {
     "end_time": "2020-07-04T17:11:53.308655Z",
     "start_time": "2020-07-04T17:11:52.776118Z"
    }
   },
   "outputs": [],
   "source": [
    "import warnings\n",
    "warnings.filterwarnings(action='ignore')\n",
    "\n",
    "import numpy as np\n",
    "from sklearn.feature_extraction.text import TfidfVectorizer\n",
    "from sklearn.metrics.pairwise import linear_kernel, cosine_similarity"
   ]
  },
  {
   "cell_type": "markdown",
   "metadata": {
    "ExecuteTime": {
     "end_time": "2020-07-04T14:24:42.479437Z",
     "start_time": "2020-07-04T14:24:42.459490Z"
    }
   },
   "source": [
    "# 기본적인 TF-IDF"
   ]
  },
  {
   "cell_type": "markdown",
   "metadata": {},
   "source": [
    "TF-IDF에 대한 이론적으로 좋은 블로그는 다음과 같다고 생각됩니다.\n",
    "\n",
    "https://euriion.com/?p=548"
   ]
  },
  {
   "cell_type": "code",
   "execution_count": 2,
   "metadata": {
    "ExecuteTime": {
     "end_time": "2020-07-04T17:11:53.319606Z",
     "start_time": "2020-07-04T17:11:53.309608Z"
    }
   },
   "outputs": [
    {
     "data": {
      "text/plain": [
       "<5x34 sparse matrix of type '<class 'numpy.float64'>'\n",
       "\twith 56 stored elements in Compressed Sparse Row format>"
      ]
     },
     "execution_count": 2,
     "metadata": {},
     "output_type": "execute_result"
    }
   ],
   "source": [
    "tf = TfidfVectorizer(analyzer = 'word', ngram_range = (1, 2), min_df = 0)\n",
    "\n",
    "list1 = ['I like apple and this monitor and this ground', 'I like this ground and this ground is 100m',\n",
    "        'I am looking this ground at the monitor', 'I am looking this ground at the television',\n",
    "        'pen pineapple apple pen']\n",
    "\n",
    "tfidf_matrix = tf.fit_transform(list1)\n",
    "tfidf_matrix"
   ]
  },
  {
   "cell_type": "markdown",
   "metadata": {},
   "source": [
    "5개의 행이 34개의 단어로 이루어져 있으며 0이 아닌 값은 총 56개가 존재한다는 뜻입니다."
   ]
  },
  {
   "cell_type": "code",
   "execution_count": 3,
   "metadata": {
    "ExecuteTime": {
     "end_time": "2020-07-04T17:11:53.327561Z",
     "start_time": "2020-07-04T17:11:53.322574Z"
    }
   },
   "outputs": [
    {
     "data": {
      "text/plain": [
       "(array([0.        , 0.        , 0.        , 0.44642293, 0.44642293,\n",
       "        0.22321146, 0.27666486, 0.        , 0.        , 0.        ,\n",
       "        0.15586815, 0.        , 0.        , 0.        , 0.        ,\n",
       "        0.        , 0.22321146, 0.27666486, 0.        , 0.        ,\n",
       "        0.        , 0.22321146, 0.27666486, 0.        , 0.        ,\n",
       "        0.        , 0.        , 0.        , 0.        , 0.        ,\n",
       "        0.        , 0.31173631, 0.15586815, 0.27666486]),\n",
       " (34,))"
      ]
     },
     "execution_count": 3,
     "metadata": {},
     "output_type": "execute_result"
    }
   ],
   "source": [
    "tfidf_matrix.toarray()[0], tfidf_matrix.toarray()[0].shape"
   ]
  },
  {
   "cell_type": "markdown",
   "metadata": {},
   "source": [
    "첫 번째 행 안에 34개의 단어들이 array 안에서 값이 채워져 있는 모습입니다. "
   ]
  },
  {
   "cell_type": "code",
   "execution_count": 4,
   "metadata": {
    "ExecuteTime": {
     "end_time": "2020-07-04T17:11:53.567934Z",
     "start_time": "2020-07-04T17:11:53.562925Z"
    },
    "scrolled": true
   },
   "outputs": [
    {
     "data": {
      "text/plain": [
       "array([[1.        , 0.46739466, 0.19012271, 0.12296691, 0.0612277 ],\n",
       "       [0.46739466, 1.        , 0.19869546, 0.19439867, 0.        ],\n",
       "       [0.19012271, 0.19869546, 1.        , 0.77157306, 0.        ],\n",
       "       [0.12296691, 0.19439867, 0.77157306, 1.        , 0.        ],\n",
       "       [0.0612277 , 0.        , 0.        , 0.        , 1.        ]])"
      ]
     },
     "execution_count": 4,
     "metadata": {},
     "output_type": "execute_result"
    }
   ],
   "source": [
    "cosine_sim = linear_kernel(tfidf_matrix, tfidf_matrix)\n",
    "cosine_sim"
   ]
  },
  {
   "cell_type": "markdown",
   "metadata": {},
   "source": [
    "sklearn.metrics.pairwise의 linear_kernel을 통해서 기존에 만들어 놓은 tfidf_matrix를 넣으면 코사인 유사도가 계산됩니다."
   ]
  },
  {
   "cell_type": "code",
   "execution_count": 5,
   "metadata": {
    "ExecuteTime": {
     "end_time": "2020-07-04T17:11:53.905728Z",
     "start_time": "2020-07-04T17:11:53.892602Z"
    }
   },
   "outputs": [
    {
     "data": {
      "text/plain": [
       "array([[ 1.        ,  0.20136947, -0.23671414, -0.33755445, -0.21502735],\n",
       "       [ 0.20136947,  1.        , -0.25287475, -0.25771132, -0.31606925],\n",
       "       [-0.23671414, -0.25287475,  1.        ,  0.63630574, -0.33344966],\n",
       "       [-0.33755445, -0.25771132,  0.63630574,  1.        , -0.33205463],\n",
       "       [-0.21502735, -0.31606925, -0.33344966, -0.33205463,  1.        ]])"
      ]
     },
     "execution_count": 5,
     "metadata": {},
     "output_type": "execute_result"
    }
   ],
   "source": [
    "c2 = np.corrcoef( tfidf_matrix.toarray() )\n",
    "c2"
   ]
  },
  {
   "cell_type": "markdown",
   "metadata": {},
   "source": [
    "이 array를 corr를 계산하는 np.corrcoef를 이용해 계산하면 상관관계가 일단은 계산이 됩니다."
   ]
  },
  {
   "cell_type": "markdown",
   "metadata": {},
   "source": [
    "여기서 유사도와 상관관계에서의 가장 큰 차이점은 음수의 존재 여부입니다.\n",
    "\n",
    "코사인 유사도의 경우, 결론적으로 빈도의 분포를 활용하기 때문에 일반적인 코사인 유사도의 값인 -1 ~ 1 사이가 아닌 0 ~ 1 사이입니다."
   ]
  },
  {
   "cell_type": "markdown",
   "metadata": {},
   "source": [
    "# 개별 예시와 합쳐진 예시의 차이"
   ]
  },
  {
   "cell_type": "markdown",
   "metadata": {},
   "source": [
    "다음은 하나의 리스트를 이용해 계산한 결과와 각각으로 나누어서 계산한 결과를 통해서\n",
    "\n",
    "코사인 유사도의 계산과 상관관계의 계산 결과를 살펴보려고 합니다."
   ]
  },
  {
   "cell_type": "markdown",
   "metadata": {},
   "source": [
    "## 합쳐진 예시"
   ]
  },
  {
   "cell_type": "code",
   "execution_count": 6,
   "metadata": {
    "ExecuteTime": {
     "end_time": "2020-07-04T17:11:54.563037Z",
     "start_time": "2020-07-04T17:11:54.556055Z"
    }
   },
   "outputs": [
    {
     "data": {
      "text/plain": [
       "<4x29 sparse matrix of type '<class 'numpy.float64'>'\n",
       "\twith 50 stored elements in Compressed Sparse Row format>"
      ]
     },
     "execution_count": 6,
     "metadata": {},
     "output_type": "execute_result"
    }
   ],
   "source": [
    "# 예시1\n",
    "tf2 = TfidfVectorizer(analyzer = 'word', ngram_range = (1, 2), min_df = 0)\n",
    "\n",
    "list2 = ['I like apple and this monitor and this ground', 'I like this ground and this ground is 100m',\n",
    "        'I am looking this ground at the monitor', 'I am looking this ground at the television']\n",
    "\n",
    "tfidf_matrix2 = tf2.fit_transform(list2)\n",
    "tfidf_matrix2"
   ]
  },
  {
   "cell_type": "code",
   "execution_count": 7,
   "metadata": {
    "ExecuteTime": {
     "end_time": "2020-07-04T17:11:54.721052Z",
     "start_time": "2020-07-04T17:11:54.716065Z"
    }
   },
   "outputs": [
    {
     "data": {
      "text/plain": [
       "array([[1.        , 0.44199978, 0.17531557, 0.10887498],\n",
       "       [0.44199978, 1.        , 0.17988015, 0.17545666],\n",
       "       [0.17531557, 0.17988015, 1.        , 0.76198892],\n",
       "       [0.10887498, 0.17545666, 0.76198892, 1.        ]])"
      ]
     },
     "execution_count": 7,
     "metadata": {},
     "output_type": "execute_result"
    }
   ],
   "source": [
    "cosine_sim2 = linear_kernel(tfidf_matrix2, tfidf_matrix2)\n",
    "cosine_sim2"
   ]
  },
  {
   "cell_type": "code",
   "execution_count": 8,
   "metadata": {
    "ExecuteTime": {
     "end_time": "2020-07-04T17:11:54.911495Z",
     "start_time": "2020-07-04T17:11:54.904517Z"
    }
   },
   "outputs": [
    {
     "data": {
      "text/plain": [
       "array([[ 1.        ,  0.08277906, -0.38357704, -0.49188749],\n",
       "       [ 0.08277906,  1.        , -0.41825066, -0.42250346],\n",
       "       [-0.38357704, -0.41825066,  1.        ,  0.58031978],\n",
       "       [-0.49188749, -0.42250346,  0.58031978,  1.        ]])"
      ]
     },
     "execution_count": 8,
     "metadata": {},
     "output_type": "execute_result"
    }
   ],
   "source": [
    "c22 = np.corrcoef( tfidf_matrix2.toarray() )\n",
    "c22"
   ]
  },
  {
   "cell_type": "markdown",
   "metadata": {},
   "source": [
    "## 개별 예시"
   ]
  },
  {
   "cell_type": "code",
   "execution_count": 9,
   "metadata": {
    "ExecuteTime": {
     "end_time": "2020-07-04T17:11:55.297618Z",
     "start_time": "2020-07-04T17:11:55.287633Z"
    }
   },
   "outputs": [
    {
     "data": {
      "text/plain": [
       "array([[1.        , 0.48413539],\n",
       "       [0.48413539, 1.        ]])"
      ]
     },
     "execution_count": 9,
     "metadata": {},
     "output_type": "execute_result"
    }
   ],
   "source": [
    "tf3= TfidfVectorizer(analyzer = 'word', ngram_range = (1, 2), min_df = 0)\n",
    "\n",
    "list3 = ['I like apple and this monitor and this ground', 'I like this ground and this ground is 100m']\n",
    "\n",
    "tfidf_matrix3 = tf3.fit_transform(list3)\n",
    "\n",
    "cosine_sim3 = linear_kernel(tfidf_matrix3, tfidf_matrix3)\n",
    "cosine_sim3"
   ]
  },
  {
   "cell_type": "code",
   "execution_count": 10,
   "metadata": {
    "ExecuteTime": {
     "end_time": "2020-07-04T17:11:55.469507Z",
     "start_time": "2020-07-04T17:11:55.462487Z"
    }
   },
   "outputs": [
    {
     "data": {
      "text/plain": [
       "array([[ 1.        , -0.38957117],\n",
       "       [-0.38957117,  1.        ]])"
      ]
     },
     "execution_count": 10,
     "metadata": {},
     "output_type": "execute_result"
    }
   ],
   "source": [
    "c3 = np.corrcoef( tfidf_matrix3.toarray() )\n",
    "c3"
   ]
  },
  {
   "cell_type": "code",
   "execution_count": 11,
   "metadata": {
    "ExecuteTime": {
     "end_time": "2020-07-04T17:11:55.663695Z",
     "start_time": "2020-07-04T17:11:55.654718Z"
    }
   },
   "outputs": [
    {
     "data": {
      "text/plain": [
       "array([[1.        , 0.18200376],\n",
       "       [0.18200376, 1.        ]])"
      ]
     },
     "execution_count": 11,
     "metadata": {},
     "output_type": "execute_result"
    }
   ],
   "source": [
    "tf4= TfidfVectorizer(analyzer = 'word', ngram_range = (1, 2), min_df = 0)\n",
    "\n",
    "list4 = ['I like apple and this monitor and this ground', 'I am looking this ground at the monitor']\n",
    "\n",
    "tfidf_matrix4 = tf4.fit_transform(list4)\n",
    "\n",
    "cosine_sim4 = linear_kernel(tfidf_matrix4, tfidf_matrix4)\n",
    "cosine_sim4"
   ]
  },
  {
   "cell_type": "code",
   "execution_count": 12,
   "metadata": {
    "ExecuteTime": {
     "end_time": "2020-07-04T17:11:55.849979Z",
     "start_time": "2020-07-04T17:11:55.841546Z"
    }
   },
   "outputs": [
    {
     "data": {
      "text/plain": [
       "array([[ 1.        , -0.82809385],\n",
       "       [-0.82809385,  1.        ]])"
      ]
     },
     "execution_count": 12,
     "metadata": {},
     "output_type": "execute_result"
    }
   ],
   "source": [
    "c4 = np.corrcoef( tfidf_matrix4.toarray() )\n",
    "c4"
   ]
  },
  {
   "cell_type": "code",
   "execution_count": 13,
   "metadata": {
    "ExecuteTime": {
     "end_time": "2020-07-04T17:11:56.041917Z",
     "start_time": "2020-07-04T17:11:56.034935Z"
    }
   },
   "outputs": [
    {
     "data": {
      "text/plain": [
       "array([[1.        , 0.14048494],\n",
       "       [0.14048494, 1.        ]])"
      ]
     },
     "execution_count": 13,
     "metadata": {},
     "output_type": "execute_result"
    }
   ],
   "source": [
    "tf5= TfidfVectorizer(analyzer = 'word', ngram_range = (1, 2), min_df = 0)\n",
    "\n",
    "list5 = ['I like apple and this monitor and this ground', 'I am looking this ground at the television']\n",
    "\n",
    "tfidf_matrix5 = tf5.fit_transform(list5)\n",
    "\n",
    "cosine_sim5 = linear_kernel(tfidf_matrix5, tfidf_matrix5)\n",
    "cosine_sim5"
   ]
  },
  {
   "cell_type": "code",
   "execution_count": 14,
   "metadata": {
    "ExecuteTime": {
     "end_time": "2020-07-04T17:11:56.250802Z",
     "start_time": "2020-07-04T17:11:56.243837Z"
    }
   },
   "outputs": [
    {
     "data": {
      "text/plain": [
       "array([[ 1.        , -0.83667967],\n",
       "       [-0.83667967,  1.        ]])"
      ]
     },
     "execution_count": 14,
     "metadata": {},
     "output_type": "execute_result"
    }
   ],
   "source": [
    "c5 = np.corrcoef( tfidf_matrix5.toarray() )\n",
    "c5"
   ]
  },
  {
   "cell_type": "markdown",
   "metadata": {},
   "source": [
    "네 개의 리스트가 합쳐진 케이스와 첫 번째 항목과 나머지 항목이 각각 나뉘어진 상태에서의\n",
    "\n",
    "코사인 유사도와 상관관계의 값의 결과입니다."
   ]
  },
  {
   "cell_type": "code",
   "execution_count": 15,
   "metadata": {
    "ExecuteTime": {
     "end_time": "2020-07-04T17:11:56.614170Z",
     "start_time": "2020-07-04T17:11:56.605552Z"
    }
   },
   "outputs": [
    {
     "name": "stdout",
     "output_type": "stream",
     "text": [
      "[1.         0.44199978 0.17531557 0.10887498]\n",
      "[1.         0.48413539] [0.18200376] [0.14048494]\n"
     ]
    }
   ],
   "source": [
    "print(cosine_sim2[0])\n",
    "print( cosine_sim3[0],cosine_sim4[0][1:], cosine_sim5[0][1:] )"
   ]
  },
  {
   "cell_type": "code",
   "execution_count": 16,
   "metadata": {
    "ExecuteTime": {
     "end_time": "2020-07-04T17:11:56.854929Z",
     "start_time": "2020-07-04T17:11:56.848945Z"
    }
   },
   "outputs": [
    {
     "name": "stdout",
     "output_type": "stream",
     "text": [
      "[ 1.          0.08277906 -0.38357704 -0.49188749]\n",
      "[ 1.         -0.38957117] [-0.82809385] [-0.83667967]\n"
     ]
    }
   ],
   "source": [
    "print(c22[0])\n",
    "print( c3[0], c4[0][1:], c5[0][1:] )"
   ]
  },
  {
   "cell_type": "markdown",
   "metadata": {},
   "source": [
    "일반적인 자연어에서의 경우가 아닌, 숫자와 숫자간의 경우라면\n",
    "\n",
    "일단 상관관계에서는 이렇게 분리가 되더라도 값이 동일하여야 합니다,\n",
    "\n",
    "하지만, 상관관계의 결과를 보면, 값이 바뀌고 있다는 것이 자연어에서의 상관관계는 상대적인 것이라는 것을 확인할 수 있습니다.\n",
    "\n",
    "즉, 일반적인 변수와 변수간의 관계에서 상관관계를 보는 것과 다르게 자연어 처리를 할 때에는\n",
    "\n",
    "코사인 유사도를 보든간에 상관관계를 보든간에 상대적이라는 것을 확인할 수 있습니다."
   ]
  },
  {
   "cell_type": "markdown",
   "metadata": {},
   "source": [
    "# 별개 케이스 용"
   ]
  },
  {
   "cell_type": "markdown",
   "metadata": {},
   "source": [
    "다음은 리스트를 하나 더 추가하여, TF-IDF를 활용할 경우, 값이 어떻게 변화되는지 확인해보고자 합니다."
   ]
  },
  {
   "cell_type": "code",
   "execution_count": 17,
   "metadata": {
    "ExecuteTime": {
     "end_time": "2020-07-04T17:11:57.740607Z",
     "start_time": "2020-07-04T17:11:57.733625Z"
    }
   },
   "outputs": [
    {
     "data": {
      "text/plain": [
       "<4x48 sparse matrix of type '<class 'numpy.float64'>'\n",
       "\twith 52 stored elements in Compressed Sparse Row format>"
      ]
     },
     "execution_count": 17,
     "metadata": {},
     "output_type": "execute_result"
    }
   ],
   "source": [
    "tf6= TfidfVectorizer(analyzer = 'word', ngram_range = (1, 2), min_df = 0)\n",
    "\n",
    "list_case2 = ['In this case, we have no choice', 'Life is choice between birth and death',\n",
    "             'Sometimes i watching youtube for 10 times', 'google\\'s youtube has grown significantly in 10 years']\n",
    "\n",
    "tf_matrix = tf6.fit_transform(list_case2)\n",
    "tf_matrix"
   ]
  },
  {
   "cell_type": "code",
   "execution_count": 18,
   "metadata": {
    "ExecuteTime": {
     "end_time": "2020-07-04T17:11:57.964477Z",
     "start_time": "2020-07-04T17:11:57.957528Z"
    }
   },
   "outputs": [
    {
     "data": {
      "text/plain": [
       "array([[1.        , 0.05000364, 0.        , 0.04770921],\n",
       "       [0.05000364, 1.        , 0.        , 0.        ],\n",
       "       [0.        , 0.        , 1.        , 0.10431864],\n",
       "       [0.04770921, 0.        , 0.10431864, 1.        ]])"
      ]
     },
     "execution_count": 18,
     "metadata": {},
     "output_type": "execute_result"
    }
   ],
   "source": [
    "cos_sim = linear_kernel(tf_matrix, tf_matrix)\n",
    "cos_sim"
   ]
  },
  {
   "cell_type": "code",
   "execution_count": 19,
   "metadata": {
    "ExecuteTime": {
     "end_time": "2020-07-04T17:11:58.210140Z",
     "start_time": "2020-07-04T17:11:58.203160Z"
    }
   },
   "outputs": [
    {
     "data": {
      "text/plain": [
       "array([[ 1.        , -0.30056629, -0.32935693, -0.33965525],\n",
       "       [-0.30056629,  1.        , -0.33001768, -0.40765924],\n",
       "       [-0.32935693, -0.33001768,  1.        , -0.22094461],\n",
       "       [-0.33965525, -0.40765924, -0.22094461,  1.        ]])"
      ]
     },
     "execution_count": 19,
     "metadata": {},
     "output_type": "execute_result"
    }
   ],
   "source": [
    "coef2 = np.corrcoef( tf_matrix.toarray() )\n",
    "coef2"
   ]
  },
  {
   "cell_type": "markdown",
   "metadata": {},
   "source": [
    "# 리스트 추가 후 결과 보기"
   ]
  },
  {
   "cell_type": "code",
   "execution_count": 20,
   "metadata": {
    "ExecuteTime": {
     "end_time": "2020-07-04T17:11:58.725728Z",
     "start_time": "2020-07-04T17:11:58.716751Z"
    }
   },
   "outputs": [
    {
     "data": {
      "text/plain": [
       "<8x74 sparse matrix of type '<class 'numpy.float64'>'\n",
       "\twith 102 stored elements in Compressed Sparse Row format>"
      ]
     },
     "execution_count": 20,
     "metadata": {},
     "output_type": "execute_result"
    }
   ],
   "source": [
    "tf7= TfidfVectorizer(analyzer = 'word', ngram_range = (1, 2), min_df = 0)\n",
    "\n",
    "list_case3 = list2 + list_case2\n",
    "\n",
    "tf_matrix3 = tf7.fit_transform(list_case3, list_case3)\n",
    "tf_matrix3"
   ]
  },
  {
   "cell_type": "code",
   "execution_count": 21,
   "metadata": {
    "ExecuteTime": {
     "end_time": "2020-07-04T17:11:58.983341Z",
     "start_time": "2020-07-04T17:11:58.975363Z"
    }
   },
   "outputs": [
    {
     "data": {
      "text/plain": [
       "array([ 1.        ,  0.37740849,  0.04803899, -0.03319176])"
      ]
     },
     "execution_count": 21,
     "metadata": {},
     "output_type": "execute_result"
    }
   ],
   "source": [
    "cos_sim3 = linear_kernel(tf_matrix3, tf_matrix3)\n",
    "\n",
    "coef3 = np.corrcoef(tf_matrix3.toarray())"
   ]
  },
  {
   "cell_type": "code",
   "execution_count": 31,
   "metadata": {
    "ExecuteTime": {
     "end_time": "2020-07-04T17:14:26.272702Z",
     "start_time": "2020-07-04T17:14:26.266715Z"
    }
   },
   "outputs": [
    {
     "data": {
      "text/plain": [
       "(array([1.        , 0.44199978, 0.17531557, 0.10887498]),\n",
       " array([1.        , 0.05000364, 0.        , 0.04770921]))"
      ]
     },
     "execution_count": 31,
     "metadata": {},
     "output_type": "execute_result"
    }
   ],
   "source": [
    "cosine_sim2[0], cos_sim[0]"
   ]
  },
  {
   "cell_type": "code",
   "execution_count": 28,
   "metadata": {
    "ExecuteTime": {
     "end_time": "2020-07-04T17:13:11.476140Z",
     "start_time": "2020-07-04T17:13:11.469129Z"
    }
   },
   "outputs": [
    {
     "data": {
      "text/plain": [
       "(array([1.        , 0.4732777 , 0.20111892, 0.13268325]),\n",
       " array([1.        , 0.05940594, 0.        , 0.05462482]))"
      ]
     },
     "execution_count": 28,
     "metadata": {},
     "output_type": "execute_result"
    }
   ],
   "source": [
    "cos_sim3[0][0:4], cos_sim3[4][4:]"
   ]
  },
  {
   "cell_type": "markdown",
   "metadata": {},
   "source": [
    "코사인 유사도의 경우, 별개의 경우와 합쳐진 경우에서 해당되는 경우를 가지고 와서 비교를 해본 결과\n",
    "\n",
    "값의 차이가 존재는 하지만, 이는 애초에 유사도 자체가 상대적인 것이기 때문에 상관이 없으며,\n",
    "\n",
    "첫 번째와 나머지를 비교했을 때의 결과도 얼마나 유사한지를 잘 보여주고 있다고 생각됩니다."
   ]
  },
  {
   "cell_type": "code",
   "execution_count": 32,
   "metadata": {
    "ExecuteTime": {
     "end_time": "2020-07-04T17:14:53.436531Z",
     "start_time": "2020-07-04T17:14:53.431511Z"
    }
   },
   "outputs": [
    {
     "data": {
      "text/plain": [
       "(array([ 1.        ,  0.08277906, -0.38357704, -0.49188749]),\n",
       " array([ 1.        , -0.30056629, -0.32935693, -0.33965525]))"
      ]
     },
     "execution_count": 32,
     "metadata": {},
     "output_type": "execute_result"
    }
   ],
   "source": [
    "c22[0], coef2[0]"
   ]
  },
  {
   "cell_type": "code",
   "execution_count": 27,
   "metadata": {
    "ExecuteTime": {
     "end_time": "2020-07-04T17:12:59.373940Z",
     "start_time": "2020-07-04T17:12:59.368942Z"
    }
   },
   "outputs": [
    {
     "data": {
      "text/plain": [
       "(array([ 1.        ,  0.37740849,  0.04803899, -0.03319176]),\n",
       " array([ 1.        , -0.1379455 , -0.19043601, -0.16249011]))"
      ]
     },
     "execution_count": 27,
     "metadata": {},
     "output_type": "execute_result"
    }
   ],
   "source": [
    "coef3[0][0:4], coef3[4][4:]"
   ]
  },
  {
   "cell_type": "markdown",
   "metadata": {},
   "source": [
    "반면에 상관관계의 경우, TF-IDF라는 상대적인 값을 통해서 상관관계를 구했기 때문에,\n",
    "\n",
    "일단 일반적으로 생각되는 것처럼 값이 고정되지 않는 것을 볼 수 있었습니다.\n",
    "\n",
    "첫 번째와 나머지를 비교한 결과에서는 추가로 생성된 리스트에서 \n",
    "\n",
    "원래는 -0.3293, -0.3396의 차이를 가지던 것이 -0.1904, -0.1624로 값의 차이가 바뀐 것을 볼 수 있습니다.\n",
    "\n",
    "이렇게 작은 추가만으로도 값이 크게 바뀌는데다가 순위까지 바뀌는 것을 볼 수 있었기 때문에\n",
    "\n",
    "TF-IDF를 사용할 때는 상관관계가 아닌 유사도를 사용하는 것이 순위를 매기기에는 좋다고 생각됩니다."
   ]
  }
 ],
 "metadata": {
  "hide_input": false,
  "kernelspec": {
   "display_name": "Python 3",
   "language": "python",
   "name": "python3"
  },
  "language_info": {
   "codemirror_mode": {
    "name": "ipython",
    "version": 3
   },
   "file_extension": ".py",
   "mimetype": "text/x-python",
   "name": "python",
   "nbconvert_exporter": "python",
   "pygments_lexer": "ipython3",
   "version": "3.7.6"
  },
  "toc": {
   "base_numbering": 1,
   "nav_menu": {},
   "number_sections": true,
   "sideBar": true,
   "skip_h1_title": false,
   "title_cell": "Table of Contents",
   "title_sidebar": "Contents",
   "toc_cell": false,
   "toc_position": {},
   "toc_section_display": true,
   "toc_window_display": false
  }
 },
 "nbformat": 4,
 "nbformat_minor": 4
}
